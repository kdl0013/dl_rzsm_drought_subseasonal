{
 "cells": [
  {
   "cell_type": "code",
   "execution_count": 1,
   "id": "7302f239-5aba-4164-8125-86df134c9bd5",
   "metadata": {
    "tags": []
   },
   "outputs": [],
   "source": [
    "%load_ext autoreload\n",
    "%autoreload 2\n",
    "%reload_ext autoreload\n",
    "\n",
    "\n",
    "import os\n",
    "from glob import glob\n",
    "\n",
    "\n"
   ]
  },
  {
   "cell_type": "code",
   "execution_count": 2,
   "id": "f17a495c-0d5d-4a4b-998b-7072bc08a8fc",
   "metadata": {},
   "outputs": [],
   "source": [
    "dir='checkpoints/CONUS'"
   ]
  },
  {
   "cell_type": "code",
   "execution_count": 43,
   "id": "da4e2ddb-0374-45b9-9433-9ee6989e587f",
   "metadata": {},
   "outputs": [],
   "source": [
    "EX_list = [f'EX{i}' for i in range(26)]\n",
    "EX_list = EX_list+['EX27']+['EX28']"
   ]
  },
  {
   "cell_type": "code",
   "execution_count": 45,
   "id": "86367e8d-c2bd-40b0-a8c7-d8592a0dba55",
   "metadata": {},
   "outputs": [],
   "source": [
    "\n",
    "incomplete = []\n",
    "\n",
    "for week in [1,2,3,4]:\n",
    "    for model in EX_list:\n",
    "        #Check if the regular model exists\n",
    "        correct_model = f'Wk{week}/Wk{week}_{model}_regular_RZSM'\n",
    "        os.system(f'mkdir -p {dir}/{correct_model}')\n",
    "        #Model has data\n",
    "        if len(glob(f'{dir}/{correct_model}/*')) == 5:\n",
    "            pass\n",
    "        else:\n",
    "            dLarge = f'{dir}/Wk{week}/Wk{week}_{model}_denseLarge_RZSM'\n",
    "            if os.path.exists(dLarge) and len(glob(f'{dLarge}/*')) == 5:\n",
    "                os.system(f'cp -r {dLarge}/* {dir}/{correct_model}')\n",
    "            else:\n",
    "                reg = f'{dir}/Wk{week}/Wk{week}_{model}_RZSM'\n",
    "                if os.path.exists(reg) and len(glob(f'{reg}/*')) == 5:\n",
    "                    os.system(f'cp -r {reg}/* {dir}/{correct_model}')\n",
    "                else:\n",
    "                    incomplete.append(f'Wk{week}-{model}')\n",
    "            "
   ]
  },
  {
   "cell_type": "code",
   "execution_count": 46,
   "id": "46eb6118-616d-4a10-9ea8-028fc83a0663",
   "metadata": {},
   "outputs": [
    {
     "data": {
      "text/plain": [
       "['Wk4-EX12', 'Wk4-EX28']"
      ]
     },
     "execution_count": 46,
     "metadata": {},
     "output_type": "execute_result"
    }
   ],
   "source": [
    "incomplete"
   ]
  },
  {
   "cell_type": "code",
   "execution_count": null,
   "id": "8349ed5d-dfec-4cba-9d5f-6adf8db133a9",
   "metadata": {},
   "outputs": [],
   "source": []
  }
 ],
 "metadata": {
  "kernelspec": {
   "display_name": "Python [conda env:tf212gpu]",
   "language": "python",
   "name": "conda-env-tf212gpu-py"
  },
  "language_info": {
   "codemirror_mode": {
    "name": "ipython",
    "version": 3
   },
   "file_extension": ".py",
   "mimetype": "text/x-python",
   "name": "python",
   "nbconvert_exporter": "python",
   "pygments_lexer": "ipython3",
   "version": "3.10.12"
  },
  "toc-autonumbering": true,
  "toc-showcode": true
 },
 "nbformat": 4,
 "nbformat_minor": 5
}
